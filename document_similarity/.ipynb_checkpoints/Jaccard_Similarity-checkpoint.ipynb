{
 "cells": [
  {
   "cell_type": "markdown",
   "metadata": {},
   "source": [
    "# Jaccard Similarity [자카드 유사도] 구현하기"
   ]
  },
  {
   "cell_type": "code",
   "execution_count": 7,
   "metadata": {},
   "outputs": [],
   "source": [
    "sentence = [\n",
    "    '정부가 글로벌 제약사 얀센 와 화이자 의 신종 코로나 바이러스 감염증 백신 계약을 체결 했다',\n",
    "    '정부가 어제 글로벌 제약사 얀센 그리고 화이자 와 코로나 19 백신 구매 계약을 체결 했습니다'\n",
    "]"
   ]
  },
  {
   "cell_type": "code",
   "execution_count": 8,
   "metadata": {},
   "outputs": [
    {
     "name": "stdout",
     "output_type": "stream",
     "text": [
      "[['정부가', '글로벌', '제약사', '얀센', '와', '화이자', '의', '신종', '코로나', '바이러스', '감염증', '백신', '계약을', '체결', '했다'], ['정부가', '어제', '글로벌', '제약사', '얀센', '그리고', '화이자', '와', '코로나', '19', '백신', '구매', '계약을', '체결', '했습니다']]\n"
     ]
    }
   ],
   "source": [
    "# tokenize\n",
    "tokenize = [[token for token in sen.split()] for sen in sentence]\n",
    "print(tokenize)"
   ]
  },
  {
   "cell_type": "code",
   "execution_count": 12,
   "metadata": {},
   "outputs": [
    {
     "name": "stdout",
     "output_type": "stream",
     "text": [
      "union:  {'얀센', '글로벌', '구매', '신종', '화이자', '코로나', '체결', '했다', '19', '그리고', '감염증', '바이러스', '의', '정부가', '제약사', '어제', '했습니다', '와', '백신', '계약을'}\n",
      "intersection:  {'얀센', '글로벌', '정부가', '제약사', '와', '백신', '코로나', '화이자', '체결', '계약을'}\n"
     ]
    }
   ],
   "source": [
    "union_ = set()\n",
    "intersection_ = set(tokenize[0])\n",
    "for token in tokenize:\n",
    "    union_ = union_.union(set(token))\n",
    "    intersection_ = intersection_.intersection(set(token))\n",
    "print(\"union: \", union_)\n",
    "print(\"intersection: \", intersection_)"
   ]
  },
  {
   "cell_type": "code",
   "execution_count": 14,
   "metadata": {},
   "outputs": [
    {
     "name": "stdout",
     "output_type": "stream",
     "text": [
      "Jaccard Similarity :  0.5\n"
     ]
    }
   ],
   "source": [
    "print(\"Jaccard Similarity : \", len(intersection_)/len(union_))"
   ]
  }
 ],
 "metadata": {
  "kernelspec": {
   "display_name": "Python 3",
   "language": "python",
   "name": "python3"
  },
  "language_info": {
   "codemirror_mode": {
    "name": "ipython",
    "version": 3
   },
   "file_extension": ".py",
   "mimetype": "text/x-python",
   "name": "python",
   "nbconvert_exporter": "python",
   "pygments_lexer": "ipython3",
   "version": "3.7.3"
  }
 },
 "nbformat": 4,
 "nbformat_minor": 4
}
