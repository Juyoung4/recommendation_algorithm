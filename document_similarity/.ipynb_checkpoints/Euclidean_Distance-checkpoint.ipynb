{
 "cells": [
  {
   "cell_type": "markdown",
   "metadata": {},
   "source": [
    "# Euclidean Distance [L2-Distance / 유클리디언 유사도] 구현하기"
   ]
  },
  {
   "cell_type": "markdown",
   "metadata": {},
   "source": [
    "## tf-idf 이용"
   ]
  },
  {
   "cell_type": "code",
   "execution_count": 1,
   "metadata": {},
   "outputs": [],
   "source": [
    "from sklearn.feature_extraction.text import TfidfVectorizer\n",
    "docs = [\n",
    "    '나는 오늘 기분이 좋아',\n",
    "    '나는 항상 기분이 좋아',\n",
    "    '우리는 매일 기분이 나빠',\n",
    "    '너는 항상 나빠 나빠'\n",
    "]"
   ]
  },
  {
   "cell_type": "code",
   "execution_count": 2,
   "metadata": {},
   "outputs": [
    {
     "data": {
      "text/plain": [
       "array([[0.39205255, 0.4842629 , 0.        , 0.        , 0.        ,\n",
       "        0.61422608, 0.        , 0.4842629 , 0.        ],\n",
       "       [0.42344193, 0.52303503, 0.        , 0.        , 0.        ,\n",
       "        0.        , 0.        , 0.52303503, 0.52303503],\n",
       "       [0.36674667, 0.        , 0.4530051 , 0.        , 0.57457953,\n",
       "        0.        , 0.57457953, 0.        , 0.        ],\n",
       "       [0.        , 0.        , 0.7779822 , 0.49338588, 0.        ,\n",
       "        0.        , 0.        , 0.        , 0.3889911 ]])"
      ]
     },
     "execution_count": 2,
     "metadata": {},
     "output_type": "execute_result"
    }
   ],
   "source": [
    "# TF-IDF 객체선언\n",
    "tfidfv = TfidfVectorizer()\n",
    "# 단어를 학습시킨다\n",
    "tfidfv.fit(docs)\n",
    "# 위 사전을 기반으로 tf-idf 계산\n",
    "tf_idf = tfidfv.transform(docs).toarray()\n",
    "tf_idf"
   ]
  },
  {
   "cell_type": "markdown",
   "metadata": {},
   "source": [
    "## Euclidean Distance구하기"
   ]
  },
  {
   "cell_type": "code",
   "execution_count": 3,
   "metadata": {},
   "outputs": [],
   "source": [
    "import numpy as np\n",
    "\n",
    "def euclidean(x, y):\n",
    "    return np.sqrt(np.sum((x-y)**2))\n"
   ]
  },
  {
   "cell_type": "code",
   "execution_count": 4,
   "metadata": {},
   "outputs": [
    {
     "name": "stdout",
     "output_type": "stream",
     "text": [
      "1.4142135623730951\n",
      "1.262175922388622\n",
      "1.1380422660273768\n"
     ]
    }
   ],
   "source": [
    "docQ = tf_idf[-1]\n",
    "print(euclidean(tf_idf[0], docQ))\n",
    "print(euclidean(tf_idf[1], docQ))\n",
    "print(euclidean(tf_idf[2], docQ))"
   ]
  },
  {
   "cell_type": "markdown",
   "metadata": {},
   "source": [
    "## word 빈도수 이용"
   ]
  },
  {
   "cell_type": "code",
   "execution_count": 5,
   "metadata": {},
   "outputs": [],
   "source": [
    "import numpy as np"
   ]
  },
  {
   "cell_type": "code",
   "execution_count": 6,
   "metadata": {},
   "outputs": [],
   "source": [
    "docs = [\n",
    "    '나는 오늘 기분이 좋아',\n",
    "    '나는 항상 기분이 좋아',\n",
    "    '우리는 매일 기분이 나빠',\n",
    "    '너는 항상 나빠 나빠'\n",
    "]"
   ]
  },
  {
   "cell_type": "code",
   "execution_count": 7,
   "metadata": {},
   "outputs": [
    {
     "data": {
      "text/plain": [
       "array([[0, 0, 0, 1, 1, 1, 0, 1, 0],\n",
       "       [0, 1, 0, 1, 1, 0, 0, 1, 0],\n",
       "       [0, 0, 1, 1, 0, 0, 1, 0, 1],\n",
       "       [1, 1, 2, 0, 0, 0, 0, 0, 0]])"
      ]
     },
     "execution_count": 7,
     "metadata": {},
     "output_type": "execute_result"
    }
   ],
   "source": [
    "words = list(set([word for doc in docs for word in doc.split()]))\n",
    "doc_array = []\n",
    "for doc in docs:\n",
    "    temp = []\n",
    "    for word in words:\n",
    "        temp.append(doc.count(word))\n",
    "    doc_array.append(temp)\n",
    "doc_array = np.array(doc_array)\n",
    "doc_array"
   ]
  },
  {
   "cell_type": "markdown",
   "metadata": {},
   "source": [
    "## Euclidean Distance구하기"
   ]
  },
  {
   "cell_type": "code",
   "execution_count": 8,
   "metadata": {},
   "outputs": [],
   "source": [
    "def euclidean(x, y):\n",
    "    return np.sqrt(np.sum((x-y)**2))"
   ]
  },
  {
   "cell_type": "code",
   "execution_count": 9,
   "metadata": {},
   "outputs": [
    {
     "name": "stdout",
     "output_type": "stream",
     "text": [
      "3.1622776601683795\n",
      "2.8284271247461903\n",
      "2.449489742783178\n"
     ]
    }
   ],
   "source": [
    "docQ = doc_array[-1]\n",
    "print(euclidean(doc_array[0], docQ))\n",
    "print(euclidean(doc_array[1], docQ))\n",
    "print(euclidean(doc_array[2], docQ))"
   ]
  },
  {
   "cell_type": "code",
   "execution_count": null,
   "metadata": {},
   "outputs": [],
   "source": []
  }
 ],
 "metadata": {
  "kernelspec": {
   "display_name": "Python 3",
   "language": "python",
   "name": "python3"
  },
  "language_info": {
   "codemirror_mode": {
    "name": "ipython",
    "version": 3
   },
   "file_extension": ".py",
   "mimetype": "text/x-python",
   "name": "python",
   "nbconvert_exporter": "python",
   "pygments_lexer": "ipython3",
   "version": "3.7.3"
  }
 },
 "nbformat": 4,
 "nbformat_minor": 4
}
