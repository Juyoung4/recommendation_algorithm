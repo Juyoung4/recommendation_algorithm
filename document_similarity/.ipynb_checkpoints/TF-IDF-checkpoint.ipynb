{
 "cells": [
  {
   "cell_type": "markdown",
   "metadata": {},
   "source": [
    "# Scikit-Learn 라이브러리를 이용하여 구현하기"
   ]
  },
  {
   "cell_type": "code",
   "execution_count": 10,
   "metadata": {},
   "outputs": [],
   "source": [
    "from sklearn.feature_extraction.text import TfidfVectorizer"
   ]
  },
  {
   "cell_type": "code",
   "execution_count": 11,
   "metadata": {},
   "outputs": [],
   "source": [
    "docs = [\n",
    "    '나는 오늘 기분이 좋아',\n",
    "    '나는 항상 기분이 좋아',\n",
    "    '우리는 매일 기분이 나빠',\n",
    "    '너는 항상 나빠 나빠'\n",
    "]"
   ]
  },
  {
   "cell_type": "code",
   "execution_count": 27,
   "metadata": {},
   "outputs": [
    {
     "name": "stdout",
     "output_type": "stream",
     "text": [
      "{'나는': 1, '오늘': 5, '기분이': 0, '좋아': 7, '항상': 8, '우리는': 6, '매일': 4, '나빠': 2, '너는': 3}\n"
     ]
    }
   ],
   "source": [
    "# TF-IDF 객체선언\n",
    "tfidfv = TfidfVectorizer()\n",
    "\n",
    "# 단어를 학습시킨다\n",
    "tfidfv.fit(docs)\n",
    "\n",
    "# 단어사전 출력(단어사전은 단어-인덱스) -> 이때 한 글자 단어들은 제외되고 단어 사전이 만들어진다.\n",
    "tfidfv.vocabulary_"
   ]
  },
  {
   "cell_type": "code",
   "execution_count": 13,
   "metadata": {},
   "outputs": [
    {
     "data": {
      "text/plain": [
       "array([1.22314355, 1.51082562, 1.51082562, 1.91629073, 1.91629073,\n",
       "       1.91629073, 1.91629073, 1.51082562, 1.51082562])"
      ]
     },
     "execution_count": 13,
     "metadata": {},
     "output_type": "execute_result"
    }
   ],
   "source": [
    "# idf 결과\n",
    "tfidfv.idf_"
   ]
  },
  {
   "cell_type": "code",
   "execution_count": 19,
   "metadata": {},
   "outputs": [
    {
     "data": {
      "text/plain": [
       "array([[0.39205255, 0.4842629 , 0.        , 0.        , 0.        ,\n",
       "        0.61422608, 0.        , 0.4842629 , 0.        ],\n",
       "       [0.42344193, 0.52303503, 0.        , 0.        , 0.        ,\n",
       "        0.        , 0.        , 0.52303503, 0.52303503],\n",
       "       [0.36674667, 0.        , 0.4530051 , 0.        , 0.57457953,\n",
       "        0.        , 0.57457953, 0.        , 0.        ],\n",
       "       [0.        , 0.        , 0.7779822 , 0.49338588, 0.        ,\n",
       "        0.        , 0.        , 0.        , 0.3889911 ]])"
      ]
     },
     "execution_count": 19,
     "metadata": {},
     "output_type": "execute_result"
    }
   ],
   "source": [
    "# 위 사전을 기반으로 tf-idf 계산\n",
    "tfidfv.transform(docs).toarray()"
   ]
  },
  {
   "cell_type": "code",
   "execution_count": 28,
   "metadata": {},
   "outputs": [
    {
     "name": "stdout",
     "output_type": "stream",
     "text": [
      "[('기분이', 0), ('나는', 1), ('나빠', 2), ('너는', 3), ('매일', 4), ('오늘', 5), ('우리는', 6), ('좋아', 7), ('항상', 8)]\n"
     ]
    }
   ],
   "source": [
    "print(sorted(tfidfv.vocabulary_.items()))"
   ]
  },
  {
   "cell_type": "markdown",
   "metadata": {},
   "source": [
    "# 직접 TF-IDF 구현하기"
   ]
  },
  {
   "cell_type": "code",
   "execution_count": 1,
   "metadata": {},
   "outputs": [],
   "source": [
    "import pandas as pd\n",
    "from math import log"
   ]
  },
  {
   "cell_type": "markdown",
   "metadata": {},
   "source": [
    "#### TF, IDF, TF-IDF 함수 작성"
   ]
  },
  {
   "cell_type": "code",
   "execution_count": null,
   "metadata": {},
   "outputs": [],
   "source": [
    "# 최종적인 TF, IDF Vector 구하기\n",
    "class TF_IDF():\n",
    "    def __init__(self, docs): \n",
    "        self.docs = docs\n",
    "        self.words = list(set([word for doc in docs for word in doc.split()]))\n",
    "        self.TF = pd.DataFrame(index=self.docs, columns=self.words)\n",
    "        self.IDF = pd.DataFrame(index=self.words, columns=['idf'])\n",
    "    \n",
    "    def tf(self):\n",
    "        for idx, row in self.TF.iterrows():\n",
    "            for word in self.words:\n",
    "                row[word] = idx.count(word)\n",
    "        return self.TF\n",
    "    \n",
    "    def idf(self):\n",
    "        for word in self.words:\n",
    "            self.IDF.loc[word,'idf'] = log(len(self.docs)/(1+len([doc for doc in self.docs if word in doc])))\n",
    "        return self.IDF\n",
    "\n",
    "# documents\n",
    "docs = [\n",
    "    '나는 오늘 기분이 좋아',\n",
    "    '나는 항상 기분이 좋아',\n",
    "    '우리는 매일 기분이 나빠',\n",
    "    '너는 항상 나빠 나빠'\n",
    "]\n",
    "\n",
    "# idf 구하기\n",
    "test = TF_IDF(docs)\n",
    "test.idf()"
   ]
  },
  {
   "cell_type": "code",
   "execution_count": 6,
   "metadata": {},
   "outputs": [],
   "source": [
    "# 최종적인 TF_IDF CLASS\n",
    "class TF_IDF():\n",
    "    def __init__(self, docs): \n",
    "        self.docs = docs\n",
    "        self.words = list(set([word for doc in docs for word in doc.split()]))\n",
    "        self.TF_IDF = pd.DataFrame(index=self.docs, columns=self.words)\n",
    "    \n",
    "    def tf(self, idx, word):\n",
    "        return idx.count(word)\n",
    "    \n",
    "    def idf(self, word):\n",
    "        return log(len(self.docs)/(1+len([doc for doc in self.docs if word in doc])))\n",
    "    \n",
    "    def tf_idf(self):\n",
    "        for idx, row in self.TF_IDF.iterrows():\n",
    "            for word in self.words:\n",
    "                row[word] = self.tf(idx, word) * self.idf(word)\n",
    "        return self.TF_IDF\n",
    "        "
   ]
  },
  {
   "cell_type": "markdown",
   "metadata": {},
   "source": [
    "#### 실행해보기"
   ]
  },
  {
   "cell_type": "code",
   "execution_count": 7,
   "metadata": {},
   "outputs": [
    {
     "name": "stdout",
     "output_type": "stream",
     "text": [
      "Docs :  ['나는 오늘 기분이 좋아', '나는 항상 기분이 좋아', '우리는 매일 기분이 나빠', '너는 항상 나빠 나빠']\n",
      "Docs words :  ['기분이', '좋아', '너는', '매일', '나는', '오늘', '항상', '나빠', '우리는']\n"
     ]
    }
   ],
   "source": [
    "# documents\n",
    "docs = [\n",
    "    '나는 오늘 기분이 좋아',\n",
    "    '나는 항상 기분이 좋아',\n",
    "    '우리는 매일 기분이 나빠',\n",
    "    '너는 항상 나빠 나빠'\n",
    "]\n",
    "\n",
    "test = TF_IDF(docs)\n",
    "print(\"Docs : \",test.docs)\n",
    "print(\"Docs words : \",test.words)"
   ]
  },
  {
   "cell_type": "code",
   "execution_count": 9,
   "metadata": {},
   "outputs": [
    {
     "data": {
      "text/html": [
       "<div>\n",
       "<style scoped>\n",
       "    .dataframe tbody tr th:only-of-type {\n",
       "        vertical-align: middle;\n",
       "    }\n",
       "\n",
       "    .dataframe tbody tr th {\n",
       "        vertical-align: top;\n",
       "    }\n",
       "\n",
       "    .dataframe thead th {\n",
       "        text-align: right;\n",
       "    }\n",
       "</style>\n",
       "<table border=\"1\" class=\"dataframe\">\n",
       "  <thead>\n",
       "    <tr style=\"text-align: right;\">\n",
       "      <th></th>\n",
       "      <th>기분이</th>\n",
       "      <th>좋아</th>\n",
       "      <th>너는</th>\n",
       "      <th>매일</th>\n",
       "      <th>나는</th>\n",
       "      <th>오늘</th>\n",
       "      <th>항상</th>\n",
       "      <th>나빠</th>\n",
       "      <th>우리는</th>\n",
       "    </tr>\n",
       "  </thead>\n",
       "  <tbody>\n",
       "    <tr>\n",
       "      <th>나는 오늘 기분이 좋아</th>\n",
       "      <td>0</td>\n",
       "      <td>0.287682</td>\n",
       "      <td>0</td>\n",
       "      <td>0</td>\n",
       "      <td>0.287682</td>\n",
       "      <td>0.693147</td>\n",
       "      <td>0</td>\n",
       "      <td>0</td>\n",
       "      <td>0</td>\n",
       "    </tr>\n",
       "    <tr>\n",
       "      <th>나는 항상 기분이 좋아</th>\n",
       "      <td>0</td>\n",
       "      <td>0.287682</td>\n",
       "      <td>0</td>\n",
       "      <td>0</td>\n",
       "      <td>0.287682</td>\n",
       "      <td>0</td>\n",
       "      <td>0.287682</td>\n",
       "      <td>0</td>\n",
       "      <td>0</td>\n",
       "    </tr>\n",
       "    <tr>\n",
       "      <th>우리는 매일 기분이 나빠</th>\n",
       "      <td>0</td>\n",
       "      <td>0</td>\n",
       "      <td>0</td>\n",
       "      <td>0.693147</td>\n",
       "      <td>0</td>\n",
       "      <td>0</td>\n",
       "      <td>0</td>\n",
       "      <td>0.287682</td>\n",
       "      <td>0.693147</td>\n",
       "    </tr>\n",
       "    <tr>\n",
       "      <th>너는 항상 나빠 나빠</th>\n",
       "      <td>0</td>\n",
       "      <td>0</td>\n",
       "      <td>0.693147</td>\n",
       "      <td>0</td>\n",
       "      <td>0</td>\n",
       "      <td>0</td>\n",
       "      <td>0.287682</td>\n",
       "      <td>0.575364</td>\n",
       "      <td>0</td>\n",
       "    </tr>\n",
       "  </tbody>\n",
       "</table>\n",
       "</div>"
      ],
      "text/plain": [
       "              기분이        좋아        너는        매일        나는        오늘        항상  \\\n",
       "나는 오늘 기분이 좋아    0  0.287682         0         0  0.287682  0.693147         0   \n",
       "나는 항상 기분이 좋아    0  0.287682         0         0  0.287682         0  0.287682   \n",
       "우리는 매일 기분이 나빠   0         0         0  0.693147         0         0         0   \n",
       "너는 항상 나빠 나빠     0         0  0.693147         0         0         0  0.287682   \n",
       "\n",
       "                     나빠       우리는  \n",
       "나는 오늘 기분이 좋아          0         0  \n",
       "나는 항상 기분이 좋아          0         0  \n",
       "우리는 매일 기분이 나빠  0.287682  0.693147  \n",
       "너는 항상 나빠 나빠    0.575364         0  "
      ]
     },
     "execution_count": 9,
     "metadata": {},
     "output_type": "execute_result"
    }
   ],
   "source": [
    "test.tf_idf()"
   ]
  },
  {
   "cell_type": "markdown",
   "metadata": {},
   "source": [
    "# Scikit-Learn에 맞게 코드 직접 구현하기"
   ]
  },
  {
   "cell_type": "code",
   "execution_count": 57,
   "metadata": {},
   "outputs": [],
   "source": [
    "import numpy as np\n",
    "# L2 정규화를 하기 위해 Scikit-Learn에서 제공하는 Preprocessing을 사용한다\n",
    "from sklearn import preprocessing\n",
    "\n",
    "class TF_IDF():\n",
    "    def __init__(self, docs): \n",
    "        self.docs = docs\n",
    "        self.words = list(set([word for doc in docs for word in doc.split()]))\n",
    "        self.TF = pd.DataFrame(index=self.docs, columns=self.words)\n",
    "        self.IDF = pd.DataFrame(index=self.words, columns=['idf'])\n",
    "    \n",
    "    def tf(self):\n",
    "        for idx, row in self.TF.iterrows():\n",
    "            for word in self.words:\n",
    "                row[word] = idx.count(word)\n",
    "        return self.TF\n",
    "    \n",
    "    def idf(self):\n",
    "        for word in self.words:\n",
    "            self.IDF.loc[word,'idf'] = np.log((1+len(self.docs))/(1+len([doc for doc in self.docs if word in doc]))) + 1\n",
    "        return self.IDF\n",
    "    \n",
    "    def tf_idf(self):\n",
    "        tf = self.tf().values\n",
    "        idf = np.array(self.idf()['idf'].tolist())\n",
    "        tf_idf_multiple = np.multiply(tf, idf) # tf * idf\n",
    "        print(\"tf_idf_multiple : \\n\", tf_idf_multiple)\n",
    "        tf_idf = preprocessing.normalize(tf_idf_multiple, norm='l2')\n",
    "        return tf_idf\n",
    "        "
   ]
  },
  {
   "cell_type": "code",
   "execution_count": 58,
   "metadata": {},
   "outputs": [
    {
     "name": "stdout",
     "output_type": "stream",
     "text": [
      "Docs :  ['나는 오늘 기분이 좋아', '나는 항상 기분이 좋아', '우리는 매일 기분이 나빠', '너는 항상 나빠 나빠']\n",
      "Docs words :  ['기분이', '좋아', '너는', '매일', '나는', '오늘', '항상', '나빠', '우리는']\n"
     ]
    }
   ],
   "source": [
    "# documents\n",
    "docs = [\n",
    "    '나는 오늘 기분이 좋아',\n",
    "    '나는 항상 기분이 좋아',\n",
    "    '우리는 매일 기분이 나빠',\n",
    "    '너는 항상 나빠 나빠'\n",
    "]\n",
    "\n",
    "test = TF_IDF(docs)\n",
    "print(\"Docs : \",test.docs)\n",
    "print(\"Docs words : \",test.words)"
   ]
  },
  {
   "cell_type": "code",
   "execution_count": 59,
   "metadata": {},
   "outputs": [
    {
     "data": {
      "text/html": [
       "<div>\n",
       "<style scoped>\n",
       "    .dataframe tbody tr th:only-of-type {\n",
       "        vertical-align: middle;\n",
       "    }\n",
       "\n",
       "    .dataframe tbody tr th {\n",
       "        vertical-align: top;\n",
       "    }\n",
       "\n",
       "    .dataframe thead th {\n",
       "        text-align: right;\n",
       "    }\n",
       "</style>\n",
       "<table border=\"1\" class=\"dataframe\">\n",
       "  <thead>\n",
       "    <tr style=\"text-align: right;\">\n",
       "      <th></th>\n",
       "      <th>idf</th>\n",
       "    </tr>\n",
       "  </thead>\n",
       "  <tbody>\n",
       "    <tr>\n",
       "      <th>기분이</th>\n",
       "      <td>1.22314</td>\n",
       "    </tr>\n",
       "    <tr>\n",
       "      <th>좋아</th>\n",
       "      <td>1.51083</td>\n",
       "    </tr>\n",
       "    <tr>\n",
       "      <th>너는</th>\n",
       "      <td>1.91629</td>\n",
       "    </tr>\n",
       "    <tr>\n",
       "      <th>매일</th>\n",
       "      <td>1.91629</td>\n",
       "    </tr>\n",
       "    <tr>\n",
       "      <th>나는</th>\n",
       "      <td>1.51083</td>\n",
       "    </tr>\n",
       "    <tr>\n",
       "      <th>오늘</th>\n",
       "      <td>1.91629</td>\n",
       "    </tr>\n",
       "    <tr>\n",
       "      <th>항상</th>\n",
       "      <td>1.51083</td>\n",
       "    </tr>\n",
       "    <tr>\n",
       "      <th>나빠</th>\n",
       "      <td>1.51083</td>\n",
       "    </tr>\n",
       "    <tr>\n",
       "      <th>우리는</th>\n",
       "      <td>1.91629</td>\n",
       "    </tr>\n",
       "  </tbody>\n",
       "</table>\n",
       "</div>"
      ],
      "text/plain": [
       "         idf\n",
       "기분이  1.22314\n",
       "좋아   1.51083\n",
       "너는   1.91629\n",
       "매일   1.91629\n",
       "나는   1.51083\n",
       "오늘   1.91629\n",
       "항상   1.51083\n",
       "나빠   1.51083\n",
       "우리는  1.91629"
      ]
     },
     "execution_count": 59,
     "metadata": {},
     "output_type": "execute_result"
    }
   ],
   "source": [
    "test.idf()"
   ]
  },
  {
   "cell_type": "code",
   "execution_count": 60,
   "metadata": {},
   "outputs": [
    {
     "data": {
      "text/plain": [
       "array([[1, 1, 0, 0, 1, 1, 0, 0, 0],\n",
       "       [1, 1, 0, 0, 1, 0, 1, 0, 0],\n",
       "       [1, 0, 0, 1, 0, 0, 0, 1, 1],\n",
       "       [0, 0, 1, 0, 0, 0, 1, 2, 0]], dtype=object)"
      ]
     },
     "execution_count": 60,
     "metadata": {},
     "output_type": "execute_result"
    }
   ],
   "source": [
    "test.tf().to_numpy()"
   ]
  },
  {
   "cell_type": "code",
   "execution_count": 61,
   "metadata": {},
   "outputs": [
    {
     "data": {
      "text/plain": [
       "array([1.22314355, 1.51082562, 1.91629073, 1.91629073, 1.51082562,\n",
       "       1.91629073, 1.51082562, 1.51082562, 1.91629073])"
      ]
     },
     "execution_count": 61,
     "metadata": {},
     "output_type": "execute_result"
    }
   ],
   "source": [
    "np.array(test.idf()['idf'].tolist())"
   ]
  },
  {
   "cell_type": "code",
   "execution_count": 62,
   "metadata": {},
   "outputs": [
    {
     "name": "stdout",
     "output_type": "stream",
     "text": [
      "tf_idf_multiple : \n",
      " [[1.2231435513142097 1.5108256237659907 0.0 0.0 1.5108256237659907\n",
      "  1.916290731874155 0.0 0.0 0.0]\n",
      " [1.2231435513142097 1.5108256237659907 0.0 0.0 1.5108256237659907 0.0\n",
      "  1.5108256237659907 0.0 0.0]\n",
      " [1.2231435513142097 0.0 0.0 1.916290731874155 0.0 0.0 0.0\n",
      "  1.5108256237659907 1.916290731874155]\n",
      " [0.0 0.0 1.916290731874155 0.0 0.0 0.0 1.5108256237659907\n",
      "  3.0216512475319814 0.0]]\n"
     ]
    },
    {
     "data": {
      "text/plain": [
       "array([[0.39205255, 0.4842629 , 0.        , 0.        , 0.4842629 ,\n",
       "        0.61422608, 0.        , 0.        , 0.        ],\n",
       "       [0.42344193, 0.52303503, 0.        , 0.        , 0.52303503,\n",
       "        0.        , 0.52303503, 0.        , 0.        ],\n",
       "       [0.36674667, 0.        , 0.        , 0.57457953, 0.        ,\n",
       "        0.        , 0.        , 0.4530051 , 0.57457953],\n",
       "       [0.        , 0.        , 0.49338588, 0.        , 0.        ,\n",
       "        0.        , 0.3889911 , 0.7779822 , 0.        ]])"
      ]
     },
     "execution_count": 62,
     "metadata": {},
     "output_type": "execute_result"
    }
   ],
   "source": [
    "test.tf_idf()"
   ]
  },
  {
   "cell_type": "code",
   "execution_count": null,
   "metadata": {},
   "outputs": [],
   "source": []
  }
 ],
 "metadata": {
  "kernelspec": {
   "display_name": "Python 3",
   "language": "python",
   "name": "python3"
  },
  "language_info": {
   "codemirror_mode": {
    "name": "ipython",
    "version": 3
   },
   "file_extension": ".py",
   "mimetype": "text/x-python",
   "name": "python",
   "nbconvert_exporter": "python",
   "pygments_lexer": "ipython3",
   "version": "3.7.3"
  }
 },
 "nbformat": 4,
 "nbformat_minor": 4
}
