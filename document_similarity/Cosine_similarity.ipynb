{
 "cells": [
  {
   "cell_type": "markdown",
   "metadata": {},
   "source": [
    "# Cosine_similarity [코사인 유사도] 구현하기"
   ]
  },
  {
   "cell_type": "code",
   "execution_count": 1,
   "metadata": {},
   "outputs": [],
   "source": [
    "from sklearn.feature_extraction.text import TfidfVectorizer"
   ]
  },
  {
   "cell_type": "code",
   "execution_count": 2,
   "metadata": {},
   "outputs": [],
   "source": [
    "sentence = [\n",
    "    '정부 가 글로벌 제약사 얀센 와 화이자 의 신종 코로나 바이러스 감염증 백신 계약 을 체결 했다',\n",
    "    '정부 가 어제 글로벌 제약사 얀센 그리고 화이자 와 코로나 19 백신 구매 계약 을 체결 했습니다',\n",
    "    '얀센 백신 내년 2 분기 접종 시작한다'\n",
    "]"
   ]
  },
  {
   "cell_type": "code",
   "execution_count": 3,
   "metadata": {},
   "outputs": [],
   "source": [
    "# TF-IDF 객체선언\n",
    "tfidfv = TfidfVectorizer()\n",
    "\n",
    "# 단어를 학습시킨다\n",
    "tfidfv.fit(sentence)\n",
    "\n",
    "# 위 사전을 기반으로 tf-idf 계산\n",
    "tf_idf = tfidfv.transform(sentence).toarray()"
   ]
  },
  {
   "cell_type": "code",
   "execution_count": 4,
   "metadata": {},
   "outputs": [
    {
     "data": {
      "text/plain": [
       "array([[0.        , 0.33813028, 0.2571568 , 0.        , 0.        ,\n",
       "        0.2571568 , 0.        , 0.33813028, 0.19970519, 0.        ,\n",
       "        0.        , 0.33813028, 0.19970519, 0.        , 0.        ,\n",
       "        0.2571568 , 0.2571568 , 0.2571568 , 0.2571568 , 0.33813028,\n",
       "        0.        , 0.2571568 ],\n",
       "       [0.32031461, 0.        , 0.24360752, 0.32031461, 0.32031461,\n",
       "        0.24360752, 0.        , 0.        , 0.18918297, 0.        ,\n",
       "        0.        , 0.        , 0.18918297, 0.32031461, 0.        ,\n",
       "        0.24360752, 0.24360752, 0.24360752, 0.24360752, 0.        ,\n",
       "        0.32031461, 0.24360752],\n",
       "       [0.        , 0.        , 0.        , 0.        , 0.        ,\n",
       "        0.        , 0.46138073, 0.        , 0.27249889, 0.46138073,\n",
       "        0.46138073, 0.        , 0.27249889, 0.        , 0.46138073,\n",
       "        0.        , 0.        , 0.        , 0.        , 0.        ,\n",
       "        0.        , 0.        ]])"
      ]
     },
     "execution_count": 4,
     "metadata": {},
     "output_type": "execute_result"
    }
   ],
   "source": [
    "tf_idf"
   ]
  },
  {
   "cell_type": "markdown",
   "metadata": {},
   "source": [
    "## 직접 구현하기"
   ]
  },
  {
   "cell_type": "code",
   "execution_count": 6,
   "metadata": {},
   "outputs": [],
   "source": [
    "import numpy as np\n",
    "\n",
    "def cosine_similarity(v1, v2):\n",
    "    return np.dot(v1, v2) / (np.linalg.norm(v1)*np.linalg.norm(v2))"
   ]
  },
  {
   "cell_type": "code",
   "execution_count": 7,
   "metadata": {},
   "outputs": [
    {
     "data": {
      "text/plain": [
       "0.10883888659189983"
      ]
     },
     "execution_count": 7,
     "metadata": {},
     "output_type": "execute_result"
    }
   ],
   "source": [
    "# doc1과 doc3의 유사도 구하기\n",
    "cosine_similarity(tf_idf[0], tf_idf[2])"
   ]
  },
  {
   "cell_type": "code",
   "execution_count": 10,
   "metadata": {},
   "outputs": [
    {
     "data": {
      "text/html": [
       "<div>\n",
       "<style scoped>\n",
       "    .dataframe tbody tr th:only-of-type {\n",
       "        vertical-align: middle;\n",
       "    }\n",
       "\n",
       "    .dataframe tbody tr th {\n",
       "        vertical-align: top;\n",
       "    }\n",
       "\n",
       "    .dataframe thead th {\n",
       "        text-align: right;\n",
       "    }\n",
       "</style>\n",
       "<table border=\"1\" class=\"dataframe\">\n",
       "  <thead>\n",
       "    <tr style=\"text-align: right;\">\n",
       "      <th></th>\n",
       "      <th>1</th>\n",
       "      <th>2</th>\n",
       "      <th>3</th>\n",
       "    </tr>\n",
       "  </thead>\n",
       "  <tbody>\n",
       "    <tr>\n",
       "      <th>1</th>\n",
       "      <td>1</td>\n",
       "      <td>0.514079</td>\n",
       "      <td>0.108839</td>\n",
       "    </tr>\n",
       "    <tr>\n",
       "      <th>2</th>\n",
       "      <td>0.514079</td>\n",
       "      <td>1</td>\n",
       "      <td>0.103104</td>\n",
       "    </tr>\n",
       "    <tr>\n",
       "      <th>3</th>\n",
       "      <td>0.108839</td>\n",
       "      <td>0.103104</td>\n",
       "      <td>1</td>\n",
       "    </tr>\n",
       "  </tbody>\n",
       "</table>\n",
       "</div>"
      ],
      "text/plain": [
       "          1         2         3\n",
       "1         1  0.514079  0.108839\n",
       "2  0.514079         1  0.103104\n",
       "3  0.108839  0.103104         1"
      ]
     },
     "execution_count": 10,
     "metadata": {},
     "output_type": "execute_result"
    }
   ],
   "source": [
    "import pandas as pd\n",
    "cosine_ = pd.DataFrame(index=[1,2,3], columns=[1,2,3])\n",
    "for i in range(len(tf_idf)):\n",
    "    for j in range(len(tf_idf)):\n",
    "        cosine_.loc[i+1,j+1] = cosine_similarity(tf_idf[i],tf_idf[j])\n",
    "cosine_"
   ]
  },
  {
   "cell_type": "markdown",
   "metadata": {},
   "source": [
    "## 사이킷런을 이용해서 구현하기"
   ]
  },
  {
   "cell_type": "code",
   "execution_count": 12,
   "metadata": {},
   "outputs": [
    {
     "data": {
      "text/plain": [
       "array([[1.        , 0.51407894, 0.10883889],\n",
       "       [0.51407894, 1.        , 0.1031043 ],\n",
       "       [0.10883889, 0.1031043 , 1.        ]])"
      ]
     },
     "execution_count": 12,
     "metadata": {},
     "output_type": "execute_result"
    }
   ],
   "source": [
    "from sklearn.metrics.pairwise import cosine_similarity\n",
    "\n",
    "cosine_similarity(tf_idf, tf_idf)"
   ]
  }
 ],
 "metadata": {
  "kernelspec": {
   "display_name": "Python 3",
   "language": "python",
   "name": "python3"
  },
  "language_info": {
   "codemirror_mode": {
    "name": "ipython",
    "version": 3
   },
   "file_extension": ".py",
   "mimetype": "text/x-python",
   "name": "python",
   "nbconvert_exporter": "python",
   "pygments_lexer": "ipython3",
   "version": "3.7.3"
  }
 },
 "nbformat": 4,
 "nbformat_minor": 4
}
